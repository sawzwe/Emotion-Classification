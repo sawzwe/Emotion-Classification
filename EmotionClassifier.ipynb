{
  "cells": [
    {
      "cell_type": "markdown",
      "metadata": {
        "id": "view-in-github",
        "colab_type": "text"
      },
      "source": [
        "<a href=\"https://colab.research.google.com/github/sawzwe/Emotion-Classification-/blob/main/EmotionClassifier.ipynb\" target=\"_parent\"><img src=\"https://colab.research.google.com/assets/colab-badge.svg\" alt=\"Open In Colab\"/></a>"
      ]
    },
    {
      "cell_type": "code",
      "execution_count": null,
      "id": "f2c58af9-7805-457d-afa2-abcbfdfc0c21",
      "metadata": {
        "id": "f2c58af9-7805-457d-afa2-abcbfdfc0c21"
      },
      "outputs": [],
      "source": [
        "import tensorflow as tf\n",
        "from tensorflow.keras.models import Sequential\n",
        "from tensorflow.keras.layers import Conv2D, MaxPooling2D, Flatten, Dense\n",
        "from tensorflow.keras.preprocessing.image import ImageDataGenerator\n",
        "from tensorflow.keras.callbacks import LearningRateScheduler, EarlyStopping"
      ]
    },
    {
      "cell_type": "markdown",
      "id": "6f1beaf0-0d4d-4fd1-90c6-b84d6a6a1913",
      "metadata": {
        "id": "6f1beaf0-0d4d-4fd1-90c6-b84d6a6a1913"
      },
      "source": [
        "# Load Data"
      ]
    },
    {
      "cell_type": "code",
      "execution_count": null,
      "id": "9f857d44-2f00-442b-8d9d-ca7e295e06c0",
      "metadata": {
        "id": "9f857d44-2f00-442b-8d9d-ca7e295e06c0"
      },
      "outputs": [],
      "source": [
        "train_dir = './data/train'\n",
        "test_dir = './data/test'\n",
        "validation_dir = './data/val'"
      ]
    },
    {
      "cell_type": "code",
      "execution_count": null,
      "id": "a8ba1e33-f174-453d-9167-2a36e99a0d84",
      "metadata": {
        "id": "a8ba1e33-f174-453d-9167-2a36e99a0d84"
      },
      "outputs": [],
      "source": [
        "# Define image dimensions and batch size\n",
        "img_width, img_height = 256, 256\n",
        "batch_size = 32"
      ]
    },
    {
      "cell_type": "code",
      "execution_count": null,
      "id": "a85eb0fc-fb08-4c74-9538-56df965c3612",
      "metadata": {
        "id": "a85eb0fc-fb08-4c74-9538-56df965c3612"
      },
      "outputs": [],
      "source": [
        "# Create data generators with data augmentation for the training set\n",
        "train_datagen = ImageDataGenerator(\n",
        "    rescale=1.0/255.0,\n",
        "    rotation_range=40,\n",
        "    width_shift_range=0.2,\n",
        "    height_shift_range=0.2,\n",
        "    shear_range=0.2,\n",
        "    zoom_range=0.2,\n",
        "    horizontal_flip=True,\n",
        "    fill_mode='nearest'\n",
        ")"
      ]
    },
    {
      "cell_type": "code",
      "execution_count": null,
      "id": "567c9052-43d6-4932-ab80-fc54cadaed52",
      "metadata": {
        "id": "567c9052-43d6-4932-ab80-fc54cadaed52"
      },
      "outputs": [],
      "source": [
        "val_test_datagen = ImageDataGenerator(rescale=1.0/255.0)"
      ]
    },
    {
      "cell_type": "code",
      "execution_count": null,
      "id": "fd8dd9b3-3c4e-4735-b554-c4c7e57ae6a7",
      "metadata": {
        "id": "fd8dd9b3-3c4e-4735-b554-c4c7e57ae6a7",
        "outputId": "364fcd91-cd6d-4f9d-ad1b-15d29ef21842"
      },
      "outputs": [
        {
          "name": "stdout",
          "output_type": "stream",
          "text": [
            "Found 3716 images belonging to 7 classes.\n"
          ]
        }
      ],
      "source": [
        "train_generator = train_datagen.flow_from_directory(\n",
        "    train_dir,\n",
        "    target_size=(img_width, img_height),\n",
        "    batch_size=batch_size,\n",
        "    class_mode='categorical',\n",
        "    shuffle=True,\n",
        "    classes=['Angry', 'Disgust', 'Fear', 'Happy', 'Neutral', 'Sad', 'Surprise']\n",
        ")"
      ]
    },
    {
      "cell_type": "code",
      "execution_count": null,
      "id": "d3d8d0a6-a613-4836-844f-d8fe6d3a7f0f",
      "metadata": {
        "id": "d3d8d0a6-a613-4836-844f-d8fe6d3a7f0f",
        "outputId": "fc00342d-41bc-4896-eecb-5339b6fdb5cf"
      },
      "outputs": [
        {
          "name": "stdout",
          "output_type": "stream",
          "text": [
            "Found 388 images belonging to 7 classes.\n"
          ]
        }
      ],
      "source": [
        "validation_generator = val_test_datagen.flow_from_directory(\n",
        "    validation_dir,\n",
        "    target_size=(img_width, img_height),\n",
        "    batch_size=batch_size,\n",
        "    class_mode='categorical',\n",
        "    shuffle=False,\n",
        "    classes=['Angry', 'Disgust', 'Fear', 'Happy', 'Neutral', 'Sad', 'Surprise']\n",
        ")"
      ]
    },
    {
      "cell_type": "code",
      "execution_count": null,
      "id": "4fd2a584-41fd-4c26-81c5-8787bbfc27a3",
      "metadata": {
        "id": "4fd2a584-41fd-4c26-81c5-8787bbfc27a3",
        "outputId": "2f1a2ce9-2d00-495d-fc24-44e2c11ca6eb"
      },
      "outputs": [
        {
          "name": "stdout",
          "output_type": "stream",
          "text": [
            "Found 388 images belonging to 7 classes.\n"
          ]
        }
      ],
      "source": [
        "test_generator = val_test_datagen.flow_from_directory(\n",
        "    test_dir,\n",
        "    target_size=(img_width, img_height),\n",
        "    batch_size=batch_size,\n",
        "    class_mode='categorical',\n",
        "    shuffle=False,\n",
        "    classes=['Angry', 'Disgust', 'Fear', 'Happy', 'Neutral', 'Sad', 'Surprise']\n",
        ")"
      ]
    },
    {
      "cell_type": "markdown",
      "id": "a02dae17-b69d-4a78-9b81-749410b8dd9e",
      "metadata": {
        "id": "a02dae17-b69d-4a78-9b81-749410b8dd9e"
      },
      "source": [
        "# Model"
      ]
    },
    {
      "cell_type": "code",
      "execution_count": null,
      "id": "80666279-5924-444e-a211-d8473edc1e18",
      "metadata": {
        "id": "80666279-5924-444e-a211-d8473edc1e18",
        "outputId": "c2d3674f-f930-4e90-ef12-e5e59d4bcbec"
      },
      "outputs": [
        {
          "name": "stdout",
          "output_type": "stream",
          "text": [
            "Model: \"sequential\"\n",
            "_________________________________________________________________\n",
            " Layer (type)                Output Shape              Param #   \n",
            "=================================================================\n",
            " conv2d (Conv2D)             (None, 254, 254, 16)      448       \n",
            "                                                                 \n",
            " max_pooling2d (MaxPooling2  (None, 127, 127, 16)      0         \n",
            " D)                                                              \n",
            "                                                                 \n",
            " conv2d_1 (Conv2D)           (None, 125, 125, 32)      4640      \n",
            "                                                                 \n",
            " max_pooling2d_1 (MaxPoolin  (None, 62, 62, 32)        0         \n",
            " g2D)                                                            \n",
            "                                                                 \n",
            " conv2d_2 (Conv2D)           (None, 60, 60, 16)        4624      \n",
            "                                                                 \n",
            " max_pooling2d_2 (MaxPoolin  (None, 30, 30, 16)        0         \n",
            " g2D)                                                            \n",
            "                                                                 \n",
            " flatten (Flatten)           (None, 14400)             0         \n",
            "                                                                 \n",
            " dense (Dense)               (None, 256)               3686656   \n",
            "                                                                 \n",
            " dense_1 (Dense)             (None, 7)                 1799      \n",
            "                                                                 \n",
            "=================================================================\n",
            "Total params: 3698167 (14.11 MB)\n",
            "Trainable params: 3698167 (14.11 MB)\n",
            "Non-trainable params: 0 (0.00 Byte)\n",
            "_________________________________________________________________\n"
          ]
        }
      ],
      "source": [
        "model = Sequential()\n",
        "\n",
        "model.add(Conv2D(16, (3,3), 1, activation='relu', input_shape=(256, 256, 3)))\n",
        "model.add(MaxPooling2D())\n",
        "model.add(Conv2D(32, (3,3), 1, activation='relu'))\n",
        "model.add(MaxPooling2D())\n",
        "model.add(Conv2D(16, (3,3), 1, activation='relu'))\n",
        "model.add(MaxPooling2D())\n",
        "model.add(Flatten())\n",
        "model.add(Dense(256, activation='relu'))\n",
        "model.add(Dense(7, activation='softmax'))  # Output layer with 7 units\n",
        "\n",
        "model.compile(optimizer='adam', loss='categorical_crossentropy', metrics=['accuracy'])\n",
        "\n",
        "model.summary()"
      ]
    },
    {
      "cell_type": "code",
      "execution_count": null,
      "id": "90786ef7-8e11-46da-a98a-01352b594b5f",
      "metadata": {
        "id": "90786ef7-8e11-46da-a98a-01352b594b5f"
      },
      "outputs": [],
      "source": [
        "# Define a learning rate schedule function\n",
        "def lr_schedule(epoch):\n",
        "    initial_lr = 0.001  # Initial learning rate\n",
        "    if epoch < 10:\n",
        "        return initial_lr\n",
        "    else:\n",
        "        return initial_lr * 0.1  # Reduce learning rate after 10 epochs"
      ]
    },
    {
      "cell_type": "code",
      "execution_count": null,
      "id": "dcfcc451-caa7-43eb-bfc6-de72d3621482",
      "metadata": {
        "id": "dcfcc451-caa7-43eb-bfc6-de72d3621482"
      },
      "outputs": [],
      "source": [
        "# Create a learning rate scheduler\n",
        "lr_scheduler = LearningRateScheduler(lr_schedule)"
      ]
    },
    {
      "cell_type": "code",
      "execution_count": null,
      "id": "3d6633b5-1b87-49c5-820b-e0d7c70fad3a",
      "metadata": {
        "id": "3d6633b5-1b87-49c5-820b-e0d7c70fad3a"
      },
      "outputs": [],
      "source": [
        "# Define early stopping\n",
        "early_stopping = EarlyStopping(\n",
        "    monitor='val_loss',  # Monitor validation loss\n",
        "    patience=5,           # Stop after 5 epochs without improvement\n",
        "    restore_best_weights=True\n",
        ")"
      ]
    },
    {
      "cell_type": "code",
      "execution_count": null,
      "id": "e3421a7b-b2e9-4cfe-a2e3-a11aa2aa0adb",
      "metadata": {
        "id": "e3421a7b-b2e9-4cfe-a2e3-a11aa2aa0adb",
        "outputId": "8a8cda4b-cc4e-4273-ec95-654b73b5c9bb"
      },
      "outputs": [
        {
          "name": "stdout",
          "output_type": "stream",
          "text": [
            "Epoch 1/60\n",
            "117/117 [==============================] - 58s 491ms/step - loss: 1.8795 - accuracy: 0.2422 - val_loss: 1.8405 - val_accuracy: 0.2887\n",
            "Validation Accuracy: 28.87%\n",
            "Epoch 2/60\n",
            "117/117 [==============================] - 57s 487ms/step - loss: 1.8693 - accuracy: 0.2487 - val_loss: 1.8377 - val_accuracy: 0.2784\n",
            "Validation Accuracy: 27.84%\n",
            "Epoch 3/60\n",
            "117/117 [==============================] - 57s 484ms/step - loss: 1.8601 - accuracy: 0.2497 - val_loss: 1.8116 - val_accuracy: 0.2912\n",
            "Validation Accuracy: 29.12%\n",
            "Epoch 4/60\n",
            "117/117 [==============================] - 57s 489ms/step - loss: 1.8562 - accuracy: 0.2468 - val_loss: 1.8028 - val_accuracy: 0.2861\n",
            "Validation Accuracy: 28.61%\n",
            "Epoch 5/60\n",
            "117/117 [==============================] - 58s 493ms/step - loss: 1.8570 - accuracy: 0.2543 - val_loss: 1.7967 - val_accuracy: 0.3144\n",
            "Validation Accuracy: 31.44%\n",
            "Epoch 6/60\n",
            "117/117 [==============================] - 59s 500ms/step - loss: 1.8506 - accuracy: 0.2616 - val_loss: 1.7824 - val_accuracy: 0.2990\n",
            "Validation Accuracy: 29.90%\n",
            "Epoch 7/60\n",
            "117/117 [==============================] - 59s 507ms/step - loss: 1.8459 - accuracy: 0.2591 - val_loss: 1.8125 - val_accuracy: 0.2887\n",
            "Validation Accuracy: 28.87%\n",
            "Epoch 8/60\n",
            "117/117 [==============================] - 59s 502ms/step - loss: 1.8470 - accuracy: 0.2664 - val_loss: 1.7843 - val_accuracy: 0.3041\n",
            "Validation Accuracy: 30.41%\n",
            "Epoch 9/60\n",
            "117/117 [==============================] - 60s 516ms/step - loss: 1.8414 - accuracy: 0.2602 - val_loss: 1.7941 - val_accuracy: 0.3067\n",
            "Validation Accuracy: 30.67%\n",
            "Epoch 10/60\n",
            "117/117 [==============================] - 60s 511ms/step - loss: 1.8341 - accuracy: 0.2651 - val_loss: 1.8209 - val_accuracy: 0.2732\n",
            "Validation Accuracy: 27.32%\n",
            "Epoch 11/60\n",
            "117/117 [==============================] - 59s 505ms/step - loss: 1.8381 - accuracy: 0.2610 - val_loss: 1.7784 - val_accuracy: 0.3247\n",
            "Validation Accuracy: 32.47%\n",
            "Epoch 12/60\n",
            "117/117 [==============================] - 59s 505ms/step - loss: 1.8270 - accuracy: 0.2597 - val_loss: 1.7796 - val_accuracy: 0.3067\n",
            "Validation Accuracy: 30.67%\n",
            "Epoch 13/60\n",
            "117/117 [==============================] - 59s 505ms/step - loss: 1.8242 - accuracy: 0.2626 - val_loss: 1.7767 - val_accuracy: 0.2938\n",
            "Validation Accuracy: 29.38%\n",
            "Epoch 14/60\n",
            "117/117 [==============================] - 60s 508ms/step - loss: 1.8218 - accuracy: 0.2653 - val_loss: 1.7555 - val_accuracy: 0.2990\n",
            "Validation Accuracy: 29.90%\n",
            "Epoch 15/60\n",
            "117/117 [==============================] - 59s 507ms/step - loss: 1.8334 - accuracy: 0.2718 - val_loss: 1.7561 - val_accuracy: 0.3273\n",
            "Validation Accuracy: 32.73%\n",
            "Epoch 16/60\n",
            "117/117 [==============================] - 60s 508ms/step - loss: 1.8230 - accuracy: 0.2618 - val_loss: 1.7767 - val_accuracy: 0.3196\n",
            "Validation Accuracy: 31.96%\n",
            "Epoch 17/60\n",
            "117/117 [==============================] - 60s 514ms/step - loss: 1.8146 - accuracy: 0.2761 - val_loss: 1.7727 - val_accuracy: 0.3015\n",
            "Validation Accuracy: 30.15%\n",
            "Epoch 18/60\n",
            "117/117 [==============================] - 59s 504ms/step - loss: 1.8141 - accuracy: 0.2737 - val_loss: 1.7571 - val_accuracy: 0.3170\n",
            "Validation Accuracy: 31.70%\n",
            "Epoch 19/60\n",
            "117/117 [==============================] - 59s 506ms/step - loss: 1.8117 - accuracy: 0.2796 - val_loss: 1.7778 - val_accuracy: 0.2938\n",
            "Validation Accuracy: 29.38%\n",
            "Epoch 20/60\n",
            "117/117 [==============================] - 62s 527ms/step - loss: 1.8194 - accuracy: 0.2731 - val_loss: 1.8036 - val_accuracy: 0.2990\n",
            "Validation Accuracy: 29.90%\n",
            "Epoch 21/60\n",
            " 59/117 [==============>...............] - ETA: 31s - loss: 1.7859 - accuracy: 0.2987"
          ]
        }
      ],
      "source": [
        "# Train the model\n",
        "num_epochs = 60\n",
        "train_losses = []\n",
        "val_losses = []\n",
        "train_accuracies = []\n",
        "val_accuracies = []\n",
        "\n",
        "for epoch in range(num_epochs):\n",
        "    print(f\"Epoch {epoch+1}/{num_epochs}\")\n",
        "\n",
        "    # Train the model on the training data\n",
        "    history = model.fit(\n",
        "        train_generator,\n",
        "        steps_per_epoch=len(train_generator),\n",
        "        validation_data=validation_generator,\n",
        "        validation_steps=len(validation_generator),\n",
        "        epochs=1,  # Train for 1 epoch at a time\n",
        "        verbose=1,\n",
        "        callbacks=[early_stopping]\n",
        "    )\n",
        "    # Collect and store training and validation losses for this epoch\n",
        "    train_losses.append(history.history['loss'][0])\n",
        "    val_losses.append(history.history['val_loss'][0])\n",
        "\n",
        "    # Collect and store training and validation accuracies for this epoch\n",
        "    train_accuracies.append(history.history['accuracy'][0])\n",
        "    val_accuracies.append(history.history['val_accuracy'][0])\n",
        "\n",
        "    # Calculate validation accuracy\n",
        "    val_loss, val_accuracy = model.evaluate(validation_generator, verbose=0)\n",
        "    print(f\"Validation Accuracy: {val_accuracy * 100:.2f}%\")"
      ]
    },
    {
      "cell_type": "markdown",
      "id": "c4b89230-8026-4537-bf33-d0e717d60ccb",
      "metadata": {
        "id": "c4b89230-8026-4537-bf33-d0e717d60ccb"
      },
      "source": [
        "# Evaluation"
      ]
    },
    {
      "cell_type": "code",
      "execution_count": null,
      "id": "bc3a22b9-8fdc-4181-968b-624d786c9b7c",
      "metadata": {
        "id": "bc3a22b9-8fdc-4181-968b-624d786c9b7c"
      },
      "outputs": [],
      "source": [
        "from matplotlib import pyplot as plt"
      ]
    },
    {
      "cell_type": "code",
      "execution_count": null,
      "id": "15420279-c3de-411e-aa69-1db0ee3d9a46",
      "metadata": {
        "id": "15420279-c3de-411e-aa69-1db0ee3d9a46"
      },
      "outputs": [],
      "source": [
        "fig = plt.figure()\n",
        "plt.plot(train_losses, color='teal', label='Training Loss')\n",
        "plt.plot(val_losses, color='orange', label='Validation Loss')\n",
        "fig.suptitle('Loss', fontsize=20)\n",
        "plt.xlabel('Epoch')\n",
        "plt.ylabel('Loss')\n",
        "plt.legend(loc=\"upper right\")\n",
        "plt.show()"
      ]
    },
    {
      "cell_type": "code",
      "execution_count": null,
      "id": "f2e95645-be58-4895-bbde-af594444163f",
      "metadata": {
        "id": "f2e95645-be58-4895-bbde-af594444163f"
      },
      "outputs": [],
      "source": [
        "fig = plt.figure()\n",
        "plt.plot(train_accuracies, color='teal', label='Training Accuracy')\n",
        "plt.plot(val_accuracies, color='orange', label='Validation Accuracy')\n",
        "fig.suptitle('Accuracy', fontsize=20)\n",
        "plt.xlabel('Epoch')\n",
        "plt.ylabel('Accuracy')\n",
        "plt.legend(loc=\"upper left\")\n",
        "plt.show()"
      ]
    },
    {
      "cell_type": "markdown",
      "id": "58a34529-6642-4b9d-906f-54efef86552c",
      "metadata": {
        "id": "58a34529-6642-4b9d-906f-54efef86552c"
      },
      "source": [
        "# Test"
      ]
    },
    {
      "cell_type": "code",
      "execution_count": null,
      "id": "bad7871f-8fd7-418c-a6b8-129aa50c9bf3",
      "metadata": {
        "id": "bad7871f-8fd7-418c-a6b8-129aa50c9bf3"
      },
      "outputs": [],
      "source": [
        "import cv2"
      ]
    },
    {
      "cell_type": "code",
      "execution_count": null,
      "id": "275ca533-db3a-4555-9ce7-3dfb2def4c76",
      "metadata": {
        "id": "275ca533-db3a-4555-9ce7-3dfb2def4c76"
      },
      "outputs": [],
      "source": [
        "image_path = test_dir + '/Happy/7.png'"
      ]
    },
    {
      "cell_type": "code",
      "execution_count": null,
      "id": "68b1eeef-f28b-424c-8491-cb50ce4a714a",
      "metadata": {
        "id": "68b1eeef-f28b-424c-8491-cb50ce4a714a"
      },
      "outputs": [],
      "source": [
        "img = cv2.imread(image_path)\n",
        "img_rgb = cv2.cvtColor(img, cv2.COLOR_BGR2RGB)"
      ]
    },
    {
      "cell_type": "code",
      "execution_count": null,
      "id": "1217d399-eeed-4b8e-8996-f876509993fc",
      "metadata": {
        "id": "1217d399-eeed-4b8e-8996-f876509993fc",
        "outputId": "fe97d691-5b73-41b9-8281-975ec8c72693"
      },
      "outputs": [
        {
          "data": {
            "image/png": "[encoded data removed]",
            "text/plain": [
              "<Figure size 640x480 with 1 Axes>"
            ]
          },
          "metadata": {},
          "output_type": "display_data"
        }
      ],
      "source": [
        "plt.imshow(img)\n",
        "plt.show()"
      ]
    },
    {
      "cell_type": "code",
      "execution_count": null,
      "id": "4966c508-57a3-4092-9bf0-6426fddbe5b3",
      "metadata": {
        "id": "4966c508-57a3-4092-9bf0-6426fddbe5b3",
        "outputId": "2dffee8f-27da-47b4-ff6f-25b7ca4d15de"
      },
      "outputs": [
        {
          "data": {
            "image/png": "[encoded data removed]",
            "text/plain": [
              "<Figure size 640x480 with 1 Axes>"
            ]
          },
          "metadata": {},
          "output_type": "display_data"
        }
      ],
      "source": [
        "resize = tf.image.resize(img, (256, 256))\n",
        "grayscale = tf.image.rgb_to_grayscale(resize)\n",
        "plt.imshow(grayscale.numpy().squeeze(), cmap='gray')\n",
        "plt.show()"
      ]
    },
    {
      "cell_type": "code",
      "execution_count": null,
      "id": "06453186-48cd-428a-941e-ff408ef35dd1",
      "metadata": {
        "id": "06453186-48cd-428a-941e-ff408ef35dd1"
      },
      "outputs": [],
      "source": [
        "import numpy as np"
      ]
    },
    {
      "cell_type": "code",
      "execution_count": null,
      "id": "337a207b-fcef-4404-801a-6e4132635bfe",
      "metadata": {
        "id": "337a207b-fcef-4404-801a-6e4132635bfe",
        "outputId": "aa0ad519-af29-42fe-9e4c-13ca30f9eeab"
      },
      "outputs": [
        {
          "name": "stdout",
          "output_type": "stream",
          "text": [
            "1/1 [==============================] - 0s 19ms/step\n",
            "[[0.09411012 0.06535713 0.10185181 0.2269292  0.3009489  0.09605891\n",
            "  0.11474401]]\n"
          ]
        }
      ],
      "source": [
        "yhat = model.predict(np.expand_dims(resize/255,0))\n",
        "print(yhat)"
      ]
    },
    {
      "cell_type": "code",
      "execution_count": null,
      "id": "e2da1d12-7a1d-4689-82ce-164ded19a023",
      "metadata": {
        "id": "e2da1d12-7a1d-4689-82ce-164ded19a023",
        "outputId": "6ce14362-1353-42f2-d6c1-d278cc8c98a5"
      },
      "outputs": [
        {
          "name": "stdout",
          "output_type": "stream",
          "text": [
            "Predicted class is Happy\n"
          ]
        }
      ],
      "source": [
        "if np.any(yhat > 0.2):\n",
        "    print(f'Predicted class is Happy')\n",
        "else:\n",
        "    print(f'Predicted class is something else')"
      ]
    },
    {
      "cell_type": "code",
      "execution_count": null,
      "id": "6b4ead23-655c-440c-9daa-26c3e7e4e4d5",
      "metadata": {
        "id": "6b4ead23-655c-440c-9daa-26c3e7e4e4d5",
        "outputId": "c7f50115-ab96-484e-97ef-83e0f26d2fcd"
      },
      "outputs": [
        {
          "name": "stdout",
          "output_type": "stream",
          "text": [
            "1/1 [==============================] - 0s 22ms/step\n",
            "Predicted class is Happy\n"
          ]
        }
      ],
      "source": [
        "# Read the image using cv2.imread\n",
        "img = cv2.imread(image_path)\n",
        "\n",
        "# Resize the image to match the input size used during training\n",
        "resize = tf.image.resize(img, (256, 256))\n",
        "\n",
        "# Make predictions for the resized image\n",
        "predictions = model.predict(np.expand_dims(resize/255, 0))\n",
        "\n",
        "# Interpret the predictions for binary classification\n",
        "predicted_class_label = \"Happy\" if predictions[0][0] < 0.5 else \"something\"\n",
        "\n",
        "# Display the predicted class label\n",
        "print(f'Predicted class is {predicted_class_label}')"
      ]
    },
    {
      "cell_type": "code",
      "execution_count": null,
      "id": "660d6559-eecf-4c9f-8cde-c0caf55a90a0",
      "metadata": {
        "id": "660d6559-eecf-4c9f-8cde-c0caf55a90a0"
      },
      "outputs": [],
      "source": []
    }
  ],
  "metadata": {
    "kernelspec": {
      "display_name": "Python 3 (ipykernel)",
      "language": "python",
      "name": "python3"
    },
    "language_info": {
      "codemirror_mode": {
        "name": "ipython",
        "version": 3
      },
      "file_extension": ".py",
      "mimetype": "text/x-python",
      "name": "python",
      "nbconvert_exporter": "python",
      "pygments_lexer": "ipython3",
      "version": "3.10.4"
    },
    "colab": {
      "provenance": [],
      "include_colab_link": true
    }
  },
  "nbformat": 4,
  "nbformat_minor": 5
}